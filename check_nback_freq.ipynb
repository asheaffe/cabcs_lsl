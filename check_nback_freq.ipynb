{
 "cells": [
  {
   "cell_type": "code",
   "execution_count": 13,
   "id": "2e44fd52",
   "metadata": {},
   "outputs": [
    {
     "data": {
      "text/plain": [
       "is_target\n",
       "False    422\n",
       "True     178\n",
       "Name: count, dtype: int64"
      ]
     },
     "execution_count": 13,
     "metadata": {},
     "output_type": "execute_result"
    }
   ],
   "source": [
    "import pandas as pd \n",
    "import os \n",
    "\n",
    "dfs = [pd.read_csv(f\"nback_2025/results/{x}\") for x in os.listdir('nback_2025/results') if '20250701' in x and x.split(\"_\")[1] != '0']\n",
    "\n",
    "# for df in dfs:\n",
    "#     print(df.is_target.value_counts())\n",
    "dfs = pd.concat(dfs).reset_index(drop=True)\n",
    "dfs.is_target.value_counts()"
   ]
  },
  {
   "cell_type": "code",
   "execution_count": 15,
   "id": "9ec1c93e",
   "metadata": {},
   "outputs": [
    {
     "data": {
      "text/plain": [
       "0.2966666666666667"
      ]
     },
     "execution_count": 15,
     "metadata": {},
     "output_type": "execute_result"
    }
   ],
   "source": [
    "178/(178 + 422)"
   ]
  }
 ],
 "metadata": {
  "kernelspec": {
   "display_name": "Python 3",
   "language": "python",
   "name": "python3"
  },
  "language_info": {
   "codemirror_mode": {
    "name": "ipython",
    "version": 3
   },
   "file_extension": ".py",
   "mimetype": "text/x-python",
   "name": "python",
   "nbconvert_exporter": "python",
   "pygments_lexer": "ipython3",
   "version": "3.11.9"
  }
 },
 "nbformat": 4,
 "nbformat_minor": 5
}
